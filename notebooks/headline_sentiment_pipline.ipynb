{
 "cells": [
  {
   "cell_type": "markdown",
   "metadata": {},
   "source": [
    "#### Import Libraries for Headline Retrieval"
   ]
  },
  {
   "cell_type": "code",
   "execution_count": 2,
   "metadata": {},
   "outputs": [],
   "source": [
    "from bs4 import BeautifulSoup\n",
    "import requests"
   ]
  },
  {
   "cell_type": "code",
   "execution_count": 3,
   "metadata": {},
   "outputs": [],
   "source": [
    "response = requests.get('https://www.nytimes.com/')"
   ]
  },
  {
   "cell_type": "code",
   "execution_count": 4,
   "metadata": {},
   "outputs": [],
   "source": [
    "def get_text(html_element):\n",
    "    title_and_summary_tag = html_element.find_all('p')\n",
    "\n",
    "    if len(title_and_summary_tag) == 0: return None\n",
    "    \n",
    "    if len(title_and_summary_tag) < 2: # This function is not very robust :(\n",
    "        return title_and_summary_tag[0].text\n",
    "        \n",
    "    title   = title_and_summary_tag[0].text\n",
    "    summary = title_and_summary_tag[1].text\n",
    "    \n",
    "    title_and_summary = title + \". \" + summary\n",
    "    title_and_summary\n",
    "\n",
    "    return title_and_summary"
   ]
  },
  {
   "cell_type": "code",
   "execution_count": 5,
   "metadata": {},
   "outputs": [],
   "source": [
    "html = BeautifulSoup(response.text)"
   ]
  },
  {
   "cell_type": "code",
   "execution_count": 6,
   "metadata": {},
   "outputs": [],
   "source": [
    "headlines = [get_text(headline) for headline in html.find_all(class_=\"story-wrapper\")]"
   ]
  },
  {
   "cell_type": "code",
   "execution_count": null,
   "metadata": {},
   "outputs": [
    {
     "data": {
      "text/plain": [
       "['LIVE. Desperate Search for Missing in Texas Floods as Death Toll Rises to 70',\n",
       " 'As Floods Hit, Important Roles Were Vacant at Weather Service Offices in Texas. Some experts say staff shortages might have complicated forecasters’ ability to coordinate responses with local emergency management officials.',\n",
       " 'Parents of Children Missing From Camp Mystic Endure an Agonizing Wait. 5 min read',\n",
       " 'Parents of Children Missing From Camp Mystic Endure an Agonizing Wait. 5 min read',\n",
       " 'What We Know About the Flood Victims. 5 min read',\n",
       " 'What We Know About the Flood Victims. 5 min read',\n",
       " 'Here’s Why the Deadly Storm Quickly Intensified. 3 min read',\n",
       " 'Here’s Why the Deadly Storm Quickly Intensified. 3 min read',\n",
       " 'Analysis. China and Russia Keep Their Distance From Iran During Crisis',\n",
       " 'With One War Over, Netanyahu Heads to Washington Amid Calls to End Another. Prime Minister Benjamin Netanyahu of Israel is set to meet with President Trump on Monday as attention has turned from Iran to a cease-fire for Gaza.',\n",
       " 'Can Democrats Find Their Way on Immigration?. At a primary debate in 2019, eight candidates raised their hands in favor of decriminalizing illegal border crossings. The party remains haunted by that tableau.',\n",
       " None,\n",
       " '‘Tears My Heart to Pieces’: North Carolina Braces for Medicaid Cuts. President Trump’s domestic policy law jeopardizes plans to reopen one rural hospital — and health coverage for hundreds of thousands of state residents.',\n",
       " '‘Tears My Heart to Pieces’: North Carolina Braces for Medicaid Cuts. President Trump’s domestic policy law jeopardizes plans to reopen one rural hospital — and health coverage for hundreds of thousands of state residents.',\n",
       " ' Got a Tip? The Times offers several ways to send important information confidentially ›',\n",
       " 'Southwest’s C.E.O. on Why Now Is the Time for Bag Fees and Assigned Seats. Bob Jordan recently introduced major changes to the way the airline works, which caused a stir among fliers and left them wondering what sets it apart.',\n",
       " 'Southwest’s C.E.O. on Why Now Is the Time for Bag Fees and Assigned Seats. Bob Jordan recently introduced major changes to the way the airline works, which caused a stir among fliers and left them wondering what sets it apart.',\n",
       " None,\n",
       " None,\n",
       " None,\n",
       " None,\n",
       " None,\n",
       " None,\n",
       " 'Did You Follow the News This Week? Take Our Quiz.',\n",
       " 'Did You Follow the News This Week? Take Our Quiz.',\n",
       " 'Play Flashback, Your Weekly History Quiz',\n",
       " 'Play Flashback, Your Weekly History Quiz',\n",
       " 'The Great Read. She Wanted to Save the World From A.I., but Then the Killings Started',\n",
       " 'The Great Read. She Wanted to Save the World From A.I., but Then the Killings Started',\n",
       " 'How Europe Got Stuck Between China and America. European Union officials will spend July in talks with China. Tensions are high, hopes are low and stability is the end game.',\n",
       " 'Europe’s Dilemma: Build a Military Industry or Keep Relying on the U.S.. 5 min read',\n",
       " 'Nearly Half of America’s Murderers Get Away With It. Most crimes go unsolved, emboldening criminals and potentially leading to more violence.',\n",
       " 'Nearly Half of America’s Murderers Get Away With It. Most crimes go unsolved, emboldening criminals and potentially leading to more violence.',\n",
       " 'LIVE. Aryna Sabalenka and Taylor Fritz Advance; Carlos Alcaraz in Action',\n",
       " 'Wimbledon Competitor Loses Game After Electronic Line Call Failure. From The Athletic',\n",
       " 'Why Wimbledon Has a Strict 11 P.M. Curfew. From The Athletic',\n",
       " 'New Rules Could End the Beautiful Chaos of Rio’s Beaches . The mayor of Rio de Janeiro has issued a decree to regulate the city’s coastline. Many residents fear it will change Rio’s beach culture as they know it.',\n",
       " 'New Rules Could End the Beautiful Chaos of Rio’s Beaches . The mayor of Rio de Janeiro has issued a decree to regulate the city’s coastline. Many residents fear it will change Rio’s beach culture as they know it.',\n",
       " 'The Hunt for a 316-Year-Old Stradivarius Stolen in the Fog of War. The violin by the famed Italian luthier was plundered at the end of World War II and presumed lost or destroyed. Experts say they believe it has resurfaced.',\n",
       " 'The Hunt for a 316-Year-Old Stradivarius Stolen in the Fog of War. The violin by the famed Italian luthier was plundered at the end of World War II and presumed lost or destroyed. Experts say they believe it has resurfaced.',\n",
       " None,\n",
       " None,\n",
       " None,\n",
       " None,\n",
       " None,\n",
       " None,\n",
       " None,\n",
       " None,\n",
       " None,\n",
       " None,\n",
       " None,\n",
       " None,\n",
       " None,\n",
       " None,\n",
       " 'Peter Beinart. Democrats Need to Understand That Opinions on Israel Are Changing Fast',\n",
       " 'Megan Craig and Camillo Pasquarelli. Finding Beauty in Midair',\n",
       " 'Jeff Flake: The Republican Fever Must Break. 4 min read',\n",
       " 'Terry Tempest Williams. Americans Fought Off This Awful Idea in Trump’s Bill',\n",
       " None,\n",
       " None,\n",
       " None,\n",
       " None,\n",
       " None,\n",
       " None,\n",
       " None,\n",
       " None,\n",
       " 'THE MORNING. Deadly Floods in Texas',\n",
       " 'THE MORNING. Deadly Floods in Texas',\n",
       " None,\n",
       " None,\n",
       " 'As Drones Spot Sharks, New York Beaches Are Shut Down. Drone technology seemed to contribute to an unusual number of shark sightings along Rockaway Beach in recent days. Each time swimmers were ordered ashore.',\n",
       " 'In ‘Orgasmic Meditation’ Case, Did a Zealous Media Strategy Backfire?. After two leaders of OneTaste were convicted, a judge referred to the aggressive publicity campaign on their behalf as she jailed them until their sentencing.',\n",
       " 'Police Officer Shot Outside Immigration Detention Facility in Texas. Several armed people were taken into custody after officers responded to a report of a suspicious person outside the detention center, officials said.',\n",
       " 'A Last Ride for Clyde Aikau, Surfing Royalty . Hundreds of surfers paid tribute to a beloved fixture on the Hawaii surf scene.',\n",
       " 'A Last Ride for Clyde Aikau, Surfing Royalty . Hundreds of surfers paid tribute to a beloved fixture on the Hawaii surf scene.',\n",
       " None,\n",
       " None,\n",
       " None,\n",
       " None,\n",
       " None,\n",
       " None,\n",
       " None,\n",
       " None,\n",
       " None,\n",
       " None,\n",
       " None,\n",
       " '',\n",
       " None,\n",
       " None,\n",
       " None,\n",
       " None,\n",
       " None,\n",
       " None,\n",
       " None,\n",
       " None,\n",
       " None,\n",
       " None,\n",
       " None,\n",
       " None,\n",
       " 'Play Connections: Sports Edition',\n",
       " 'Play Connections: Sports Edition',\n",
       " None,\n",
       " None,\n",
       " None,\n",
       " None,\n",
       " None,\n",
       " None,\n",
       " None,\n",
       " None,\n",
       " None,\n",
       " None,\n",
       " None,\n",
       " None,\n",
       " None,\n",
       " None,\n",
       " None,\n",
       " None,\n",
       " None,\n",
       " None,\n",
       " None,\n",
       " None,\n",
       " None,\n",
       " None,\n",
       " None,\n",
       " None,\n",
       " 'Wordle. Guess the 5-letter word with 6 chances.',\n",
       " 'Wordle. Guess the 5-letter word with 6 chances.',\n",
       " 'Connections. Group words that share a common thread.',\n",
       " 'Connections. Group words that share a common thread.',\n",
       " 'Strands. Uncover hidden words and reveal the theme.',\n",
       " 'Strands. Uncover hidden words and reveal the theme.',\n",
       " 'Spelling Bee. How many words can you make with 7 letters?',\n",
       " 'Spelling Bee. How many words can you make with 7 letters?',\n",
       " 'The Crossword. Get clued in with wordplay, every day.',\n",
       " 'The Crossword. Get clued in with wordplay, every day.',\n",
       " 'The Mini Crossword. Solve this bite-sized puzzle in just a few minutes.',\n",
       " 'The Mini Crossword. Solve this bite-sized puzzle in just a few minutes.']"
      ]
     },
     "execution_count": 7,
     "metadata": {},
     "output_type": "execute_result"
    }
   ],
   "source": [
    "headlines"
   ]
  },
  {
   "cell_type": "code",
   "execution_count": 11,
   "metadata": {},
   "outputs": [
    {
     "data": {
      "text/plain": [
       "<a class=\"article-title\" cmp-ltrk=\"Latest Headlines\" cmp-ltrk-idx=\"0\" data-mrf-layout-anchor=\"\" data-mrf-link=\"https://www.chicagotribune.com/2024/11/30/chicago-man-charged-oak-park-police-shooting/\" href=\"https://www.chicagotribune.com/2024/11/30/chicago-man-charged-oak-park-police-shooting/\" mrfobservableid=\"027d4b90-723a-4ebf-8bb0-c9252788c575\" title=\"West Side man charged in fatal shooting of Oak Park police officer\">\n",
       "<span class=\"dfm-title metered\" data-mrf-layout-title=\"\">\n",
       "            West Side man charged in fatal shooting of Oak Park police officer\t\t</span>\n",
       "</a>"
      ]
     },
     "execution_count": 11,
     "metadata": {},
     "output_type": "execute_result"
    }
   ],
   "source": [
    "html_element = \"\"\"<a class=\"article-title\" href=\"https://www.chicagotribune.com/2024/11/30/chicago-man-charged-oak-park-police-shooting/\" title=\"West Side man charged in fatal shooting of Oak Park police officer\" data-mrf-layout-anchor=\"\" data-mrf-link=\"https://www.chicagotribune.com/2024/11/30/chicago-man-charged-oak-park-police-shooting/\" cmp-ltrk=\"Latest Headlines\" cmp-ltrk-idx=\"0\" mrfobservableid=\"027d4b90-723a-4ebf-8bb0-c9252788c575\">\n",
    "    \n",
    "                <span class=\"dfm-title metered\" data-mrf-layout-title=\"\">\n",
    "            West Side man charged in fatal shooting of Oak Park police officer\t\t</span>\n",
    "\n",
    "\n",
    "\n",
    "            </a>\"\"\"\n",
    "soup = BeautifulSoup(html_element, 'html.parser')\n",
    "soup.find('a', class_='article-title')"
   ]
  },
  {
   "cell_type": "code",
   "execution_count": 15,
   "metadata": {},
   "outputs": [],
   "source": [
    "html_element = requests.get('https://www.chicagotribune.com/')\n",
    "soup = BeautifulSoup(html_element.text, 'html.parser')\n",
    "title_and_summary_tag = soup.find_all('p')"
   ]
  },
  {
   "cell_type": "code",
   "execution_count": 16,
   "metadata": {},
   "outputs": [
    {
     "data": {
      "text/plain": [
       "[<p class=\"e-edition\">eNewspaper</p>,\n",
       " <p class=\"prompt\">Sign up for email newsletters</p>,\n",
       " <p class=\"logged-in-source\" id=\"push-auth-source\"></p>,\n",
       " <p class=\"prompt\">Sign up for email newsletters</p>,\n",
       " <p class=\"e-edition\">eNewspaper</p>,\n",
       " <p class=\"label\">\n",
       " \t\t\tTrending:\t\t</p>,\n",
       " <p class=\"prompt\">Sign up for email newsletters</p>,\n",
       " <p>Copyright © 2025 Chicago Tribune</p>]"
      ]
     },
     "execution_count": 16,
     "metadata": {},
     "output_type": "execute_result"
    }
   ],
   "source": [
    "title_and_summary_tag"
   ]
  },
  {
   "cell_type": "code",
   "execution_count": null,
   "metadata": {},
   "outputs": [],
   "source": []
  }
 ],
 "metadata": {
  "kernelspec": {
   "display_name": "py-for-ml",
   "language": "python",
   "name": "python3"
  },
  "language_info": {
   "codemirror_mode": {
    "name": "ipython",
    "version": 3
   },
   "file_extension": ".py",
   "mimetype": "text/x-python",
   "name": "python",
   "nbconvert_exporter": "python",
   "pygments_lexer": "ipython3",
   "version": "3.10.16"
  }
 },
 "nbformat": 4,
 "nbformat_minor": 2
}
